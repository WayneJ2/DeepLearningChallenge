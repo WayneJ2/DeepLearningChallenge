{
  "nbformat": 4,
  "nbformat_minor": 0,
  "metadata": {
    "kernelspec": {
      "display_name": "Python 3",
      "language": "python",
      "name": "python3"
    },
    "language_info": {
      "codemirror_mode": {
        "name": "ipython",
        "version": 3
      },
      "file_extension": ".py",
      "mimetype": "text/x-python",
      "name": "python",
      "nbconvert_exporter": "python",
      "pygments_lexer": "ipython3",
      "version": "3.7.6"
    },
    "colab": {
      "name": "AlphabetSoupCharity_Optimzation.ipynb",
      "provenance": [],
      "collapsed_sections": []
    }
  },
  "cells": [
    {
      "cell_type": "markdown",
      "metadata": {
        "id": "sW8tcSquINu8"
      },
      "source": [
        "## Preprocessing"
      ]
    },
    {
      "cell_type": "code",
      "metadata": {
        "id": "SqOYTVLUngAD",
        "colab": {
          "base_uri": "https://localhost:8080/"
        },
        "outputId": "8261190e-69cc-46ad-9746-20346e3e603e"
      },
      "source": [
        "from google.colab import drive\n",
        "drive.mount('/content/drive',force_remount=True)\n"
      ],
      "execution_count": null,
      "outputs": [
        {
          "output_type": "stream",
          "name": "stdout",
          "text": [
            "Mounted at /content/drive\n"
          ]
        }
      ]
    },
    {
      "cell_type": "code",
      "metadata": {
        "id": "j3noawZvINvA"
      },
      "source": [
        "# Import our dependencies\n",
        "from sklearn.model_selection import train_test_split\n",
        "from sklearn.preprocessing import StandardScaler\n",
        "import pandas as pd\n",
        "import tensorflow as tf\n",
        "from tensorflow import keras\n",
        "from tensorflow.keras import layers\n",
        "\n",
        "#  Import and read the charity_data.csv.\n",
        "import pandas as pd \n",
        "application_df = pd.read_csv(\"/content/drive/MyDrive/UCD Bootcamp/Course/charity_data.csv\")\n",
        " "
      ],
      "execution_count": null,
      "outputs": []
    },
    {
      "cell_type": "code",
      "metadata": {
        "id": "NTBIgv8aINvB"
      },
      "source": [
        "# Drop the non-beneficial ID columns, 'EIN' and 'NAME'.\n",
        "#  YOUR CODE GOES HERE\n",
        "application_df = application_df.drop([\"EIN\",\"NAME\"],1)"
      ],
      "execution_count": null,
      "outputs": []
    },
    {
      "cell_type": "code",
      "metadata": {
        "colab": {
          "base_uri": "https://localhost:8080/"
        },
        "id": "jfqJR-LMINvC",
        "outputId": "4e9f375e-27a4-48cd-f123-2593700d51e8"
      },
      "source": [
        "# Determine the number of unique values in each column.\n",
        "#  YOUR CODE GOES HERE\n",
        "application_df.nunique()"
      ],
      "execution_count": null,
      "outputs": [
        {
          "output_type": "execute_result",
          "data": {
            "text/plain": [
              "APPLICATION_TYPE            17\n",
              "AFFILIATION                  6\n",
              "CLASSIFICATION              71\n",
              "USE_CASE                     5\n",
              "ORGANIZATION                 4\n",
              "STATUS                       2\n",
              "INCOME_AMT                   9\n",
              "SPECIAL_CONSIDERATIONS       2\n",
              "ASK_AMT                   8747\n",
              "IS_SUCCESSFUL                2\n",
              "dtype: int64"
            ]
          },
          "metadata": {},
          "execution_count": 4
        }
      ]
    },
    {
      "cell_type": "code",
      "metadata": {
        "id": "38F-xzDbINvC"
      },
      "source": [
        "# Look at APPLICATION_TYPE value counts for binning\n",
        "#  YOUR CODE GOES HERE\n",
        "application_counts = application_df[\"APPLICATION_TYPE\"].value_counts()"
      ],
      "execution_count": null,
      "outputs": []
    },
    {
      "cell_type": "code",
      "metadata": {
        "colab": {
          "base_uri": "https://localhost:8080/"
        },
        "id": "sP2N2I2KINvD",
        "outputId": "0501653d-6af7-46f4-c400-a7a61f0372eb"
      },
      "source": [
        "# Choose a cutoff value and create a list of application types to be replaced\n",
        "# use the variable name `application_types_to_replace`\n",
        "#  YOUR CODE GOES HERE\n",
        "application_types_to_replace = list(application_counts[application_counts>100])\n",
        "\n",
        "# Replace in dataframe\n",
        "for app in application_types_to_replace:\n",
        "    application_df['APPLICATION_TYPE'] = application_df['APPLICATION_TYPE'].replace(app,\"Other\")\n",
        "\n",
        "# Check to make sure binning was successful\n",
        "application_df['APPLICATION_TYPE'].value_counts()"
      ],
      "execution_count": null,
      "outputs": [
        {
          "output_type": "execute_result",
          "data": {
            "text/plain": [
              "T3     27037\n",
              "T4      1542\n",
              "T6      1216\n",
              "T5      1173\n",
              "T19     1065\n",
              "T8       737\n",
              "T7       725\n",
              "T10      528\n",
              "T9       156\n",
              "T13       66\n",
              "T12       27\n",
              "T2        16\n",
              "T14        3\n",
              "T25        3\n",
              "T15        2\n",
              "T29        2\n",
              "T17        1\n",
              "Name: APPLICATION_TYPE, dtype: int64"
            ]
          },
          "metadata": {},
          "execution_count": 6
        }
      ]
    },
    {
      "cell_type": "code",
      "metadata": {
        "id": "6mQtgglkINvD"
      },
      "source": [
        "# Look at CLASSIFICATION value counts for binning\n",
        "#  YOUR CODE GOES HERE\n",
        "class_counts = application_df[\"CLASSIFICATION\"].value_counts()"
      ],
      "execution_count": null,
      "outputs": []
    },
    {
      "cell_type": "code",
      "metadata": {
        "colab": {
          "base_uri": "https://localhost:8080/"
        },
        "id": "x4IIcMxOINvD",
        "outputId": "26118c5c-4bd7-4774-ad1b-a62cec02b3b3"
      },
      "source": [
        "# You may find it helpful to look at CLASSIFICATION value counts >1\n",
        "#  YOUR CODE GOES HERE\n",
        "class_counts[class_counts>1]"
      ],
      "execution_count": null,
      "outputs": [
        {
          "output_type": "execute_result",
          "data": {
            "text/plain": [
              "C1000    17326\n",
              "C2000     6074\n",
              "C1200     4837\n",
              "C3000     1918\n",
              "C2100     1883\n",
              "C7000      777\n",
              "C1700      287\n",
              "C4000      194\n",
              "C5000      116\n",
              "C1270      114\n",
              "C2700      104\n",
              "C2800       95\n",
              "C7100       75\n",
              "C1300       58\n",
              "C1280       50\n",
              "C1230       36\n",
              "C1400       34\n",
              "C2300       32\n",
              "C7200       32\n",
              "C1240       30\n",
              "C8000       20\n",
              "C7120       18\n",
              "C1500       16\n",
              "C1800       15\n",
              "C6000       15\n",
              "C1250       14\n",
              "C8200       11\n",
              "C1278       10\n",
              "C1238       10\n",
              "C1237        9\n",
              "C1235        9\n",
              "C7210        7\n",
              "C1720        6\n",
              "C4100        6\n",
              "C2400        6\n",
              "C1257        5\n",
              "C1600        5\n",
              "C0           3\n",
              "C2710        3\n",
              "C1260        3\n",
              "C1256        2\n",
              "C1267        2\n",
              "C3200        2\n",
              "C1246        2\n",
              "C1234        2\n",
              "Name: CLASSIFICATION, dtype: int64"
            ]
          },
          "metadata": {},
          "execution_count": 8
        }
      ]
    },
    {
      "cell_type": "code",
      "metadata": {
        "colab": {
          "base_uri": "https://localhost:8080/"
        },
        "id": "FGuoF7cXINvE",
        "outputId": "2b101a48-1144-44e6-aeae-96ee4ce14382"
      },
      "source": [
        "# Choose a cutoff value and create a list of classifications to be replaced\n",
        "# use the variable name `classifications_to_replace`\n",
        "#  YOUR CODE GOES HERE\n",
        "classifications_to_replace = list(class_counts[class_counts<2000].index)\n",
        "\n",
        "# Replace in dataframe\n",
        "for cls in classifications_to_replace:\n",
        "    application_df['CLASSIFICATION'] = application_df['CLASSIFICATION'].replace(cls,\"Other\")\n",
        "    \n",
        "# Check to make sure binning was successful\n",
        "application_df['CLASSIFICATION'].value_counts()"
      ],
      "execution_count": null,
      "outputs": [
        {
          "output_type": "execute_result",
          "data": {
            "text/plain": [
              "C1000    17326\n",
              "C2000     6074\n",
              "Other     6062\n",
              "C1200     4837\n",
              "Name: CLASSIFICATION, dtype: int64"
            ]
          },
          "metadata": {},
          "execution_count": 9
        }
      ]
    },
    {
      "cell_type": "code",
      "metadata": {
        "id": "tEw5Mp-yINvF"
      },
      "source": [
        "# Convert categorical data to numeric with `pd.get_dummies`\n",
        "#  YOUR CODE GOES HERE\n",
        "applicationWithDUmmies_df = pd.get_dummies(application_df)"
      ],
      "execution_count": null,
      "outputs": []
    },
    {
      "cell_type": "code",
      "metadata": {
        "id": "ToBBr1NSINvF"
      },
      "source": [
        "# Split our preprocessed data into our features and target arrays\n",
        "#  YOUR CODE GOES HERE\n",
        "X = applicationWithDUmmies_df.drop([\"IS_SUCCESSFUL\"], axis='columns').values\n",
        "y = applicationWithDUmmies_df[\"IS_SUCCESSFUL\"].values\n",
        "\n",
        "# Split the preprocessed data into a training and testing dataset\n",
        "#  YOUR CODE GOES HERE\n",
        "X_train, X_test, y_train, y_test = train_test_split(X,y, random_state=42)\n"
      ],
      "execution_count": null,
      "outputs": []
    },
    {
      "cell_type": "code",
      "metadata": {
        "id": "OiFTtHEqINvG"
      },
      "source": [
        "# Create a StandardScaler instances\n",
        "scaler = StandardScaler()\n",
        "\n",
        "# Fit the StandardScaler\n",
        "X_scaler = scaler.fit(X_train)\n",
        "\n",
        "# Scale the data\n",
        "X_train_scaled = X_scaler.transform(X_train)\n",
        "X_test_scaled = X_scaler.transform(X_test)"
      ],
      "execution_count": null,
      "outputs": []
    },
    {
      "cell_type": "markdown",
      "metadata": {
        "id": "sesZEdlLINvG"
      },
      "source": [
        "## Compile, Train and Evaluate the Model"
      ]
    },
    {
      "cell_type": "code",
      "metadata": {
        "colab": {
          "base_uri": "https://localhost:8080/"
        },
        "id": "GeUNzswHINvG",
        "outputId": "e94707d1-7192-49dc-9cc7-64c52b0e13a9"
      },
      "source": [
        "# Define the model - deep neural net, i.e., the number of input features and hidden nodes for each layer.\n",
        "#  YOUR CODE GOES HERE\n",
        "numberInputFeatures = len(X_train[0])\n",
        "hiddenNodesL1 = 500\n",
        "hiddenNodesL2 = 500\n",
        "hiddenNodesL3 = 100\n",
        "hiddenNodesL4 = 80\n",
        "# hiddenNodesL5 = 100\n",
        "# hiddenNodesL6 = 100\n",
        "\n",
        "nn = tf.keras.models.Sequential()\n",
        "\n",
        "# First hidden layer\n",
        "#  YOUR CODE GOES HERE\n",
        "nn.add(tf.keras.layers.Dense(units=hiddenNodesL1, input_dim=numberInputFeatures, activation=\"relu\")\n",
        ")\n",
        "# Second hidden layer\n",
        "#  YOUR CODE GOES HERE\n",
        "nn.add(\n",
        "   tf.keras.layers.Dense(units=hiddenNodesL2, activation=\"relu\")\n",
        ")\n",
        "\n",
        "# Third hidden layer\n",
        "#  YOUR CODE GOES HERE\n",
        "nn.add(\n",
        "   tf.keras.layers.Dense(units=hiddenNodesL3, activation=\"relu\")\n",
        ")\n",
        "\n",
        "# Fourth hidden layer\n",
        "#  YOUR CODE GOES HERE\n",
        "nn.add(\n",
        "   tf.keras.layers.Dense(units=hiddenNodesL4, activation=\"relu\")\n",
        ")\n",
        "\n",
        "# # Fifth hidden layer\n",
        "# #  YOUR CODE GOES HERE\n",
        "# nn.add(\n",
        "#    tf.keras.layers.Dense(units=hiddenNodesL5, activation=\"relu\")\n",
        "# )\n",
        "\n",
        "# Sixth hidden layer\n",
        "#  YOUR CODE GOES HERE\n",
        "# nn.add(\n",
        "#    tf.keras.layers.Dense(units=hiddenNodesL6, activation=\"relu\")\n",
        "# )\n",
        "\n",
        "# Output layer\n",
        "#  YOUR CODE GOES HERE\n",
        "nn.add(\n",
        "    tf.keras.layers.Dense(units=1, activation=\"sigmoid\")\n",
        ")\n",
        "# Check the structure of the model\n",
        "nn.summary()"
      ],
      "execution_count": null,
      "outputs": [
        {
          "output_type": "stream",
          "name": "stdout",
          "text": [
            "Model: \"sequential_1\"\n",
            "_________________________________________________________________\n",
            " Layer (type)                Output Shape              Param #   \n",
            "=================================================================\n",
            " dense_5 (Dense)             (None, 500)               25000     \n",
            "                                                                 \n",
            " dense_6 (Dense)             (None, 500)               250500    \n",
            "                                                                 \n",
            " dense_7 (Dense)             (None, 100)               50100     \n",
            "                                                                 \n",
            " dense_8 (Dense)             (None, 80)                8080      \n",
            "                                                                 \n",
            " dense_9 (Dense)             (None, 1)                 81        \n",
            "                                                                 \n",
            "=================================================================\n",
            "Total params: 333,761\n",
            "Trainable params: 333,761\n",
            "Non-trainable params: 0\n",
            "_________________________________________________________________\n"
          ]
        }
      ]
    },
    {
      "cell_type": "code",
      "metadata": {
        "id": "xSuY7H5YINvH"
      },
      "source": [
        "# Compile the model\n",
        "#  YOUR CODE GOES HERE\n",
        "nn.compile(loss=\"binary_crossentropy\", optimizer=\"adam\", metrics=[\"accuracy\"])"
      ],
      "execution_count": null,
      "outputs": []
    },
    {
      "cell_type": "code",
      "metadata": {
        "id": "g3KzeOfeINvH",
        "colab": {
          "base_uri": "https://localhost:8080/"
        },
        "outputId": "12bf4625-9073-47cc-da3e-068c032e86a7"
      },
      "source": [
        "# Train the model\n",
        "#  YOUR CODE GOES HERE\n",
        "fit_model = nn.fit(X_train_scaled, y_train, epochs=100,verbose=2)"
      ],
      "execution_count": null,
      "outputs": [
        {
          "output_type": "stream",
          "name": "stdout",
          "text": [
            "Epoch 1/100\n",
            "804/804 - 4s - loss: 0.5724 - accuracy: 0.7211 - 4s/epoch - 5ms/step\n",
            "Epoch 2/100\n",
            "804/804 - 3s - loss: 0.5618 - accuracy: 0.7266 - 3s/epoch - 4ms/step\n",
            "Epoch 3/100\n",
            "804/804 - 4s - loss: 0.5587 - accuracy: 0.7282 - 4s/epoch - 4ms/step\n",
            "Epoch 4/100\n",
            "804/804 - 4s - loss: 0.5562 - accuracy: 0.7292 - 4s/epoch - 5ms/step\n",
            "Epoch 5/100\n",
            "804/804 - 3s - loss: 0.5553 - accuracy: 0.7286 - 3s/epoch - 4ms/step\n",
            "Epoch 6/100\n",
            "804/804 - 3s - loss: 0.5535 - accuracy: 0.7309 - 3s/epoch - 4ms/step\n",
            "Epoch 7/100\n",
            "804/804 - 3s - loss: 0.5530 - accuracy: 0.7304 - 3s/epoch - 4ms/step\n",
            "Epoch 8/100\n",
            "804/804 - 3s - loss: 0.5519 - accuracy: 0.7312 - 3s/epoch - 4ms/step\n",
            "Epoch 9/100\n",
            "804/804 - 3s - loss: 0.5507 - accuracy: 0.7286 - 3s/epoch - 4ms/step\n",
            "Epoch 10/100\n",
            "804/804 - 3s - loss: 0.5502 - accuracy: 0.7323 - 3s/epoch - 4ms/step\n",
            "Epoch 11/100\n",
            "804/804 - 3s - loss: 0.5497 - accuracy: 0.7323 - 3s/epoch - 4ms/step\n",
            "Epoch 12/100\n",
            "804/804 - 3s - loss: 0.5485 - accuracy: 0.7320 - 3s/epoch - 4ms/step\n",
            "Epoch 13/100\n",
            "804/804 - 4s - loss: 0.5486 - accuracy: 0.7333 - 4s/epoch - 4ms/step\n",
            "Epoch 14/100\n",
            "804/804 - 4s - loss: 0.5482 - accuracy: 0.7337 - 4s/epoch - 4ms/step\n",
            "Epoch 15/100\n",
            "804/804 - 3s - loss: 0.5478 - accuracy: 0.7325 - 3s/epoch - 4ms/step\n",
            "Epoch 16/100\n",
            "804/804 - 3s - loss: 0.5469 - accuracy: 0.7342 - 3s/epoch - 4ms/step\n",
            "Epoch 17/100\n",
            "804/804 - 3s - loss: 0.5473 - accuracy: 0.7325 - 3s/epoch - 4ms/step\n",
            "Epoch 18/100\n",
            "804/804 - 3s - loss: 0.5464 - accuracy: 0.7333 - 3s/epoch - 4ms/step\n",
            "Epoch 19/100\n",
            "804/804 - 3s - loss: 0.5461 - accuracy: 0.7347 - 3s/epoch - 4ms/step\n",
            "Epoch 20/100\n",
            "804/804 - 3s - loss: 0.5463 - accuracy: 0.7338 - 3s/epoch - 4ms/step\n",
            "Epoch 21/100\n",
            "804/804 - 3s - loss: 0.5462 - accuracy: 0.7338 - 3s/epoch - 4ms/step\n",
            "Epoch 22/100\n",
            "804/804 - 3s - loss: 0.5457 - accuracy: 0.7342 - 3s/epoch - 4ms/step\n",
            "Epoch 23/100\n",
            "804/804 - 3s - loss: 0.5448 - accuracy: 0.7342 - 3s/epoch - 4ms/step\n",
            "Epoch 24/100\n",
            "804/804 - 3s - loss: 0.5446 - accuracy: 0.7351 - 3s/epoch - 4ms/step\n",
            "Epoch 25/100\n",
            "804/804 - 3s - loss: 0.5448 - accuracy: 0.7352 - 3s/epoch - 4ms/step\n",
            "Epoch 26/100\n",
            "804/804 - 3s - loss: 0.5440 - accuracy: 0.7348 - 3s/epoch - 4ms/step\n",
            "Epoch 27/100\n",
            "804/804 - 3s - loss: 0.5443 - accuracy: 0.7351 - 3s/epoch - 4ms/step\n",
            "Epoch 28/100\n",
            "804/804 - 3s - loss: 0.5438 - accuracy: 0.7352 - 3s/epoch - 4ms/step\n",
            "Epoch 29/100\n",
            "804/804 - 3s - loss: 0.5440 - accuracy: 0.7353 - 3s/epoch - 4ms/step\n",
            "Epoch 30/100\n",
            "804/804 - 3s - loss: 0.5437 - accuracy: 0.7353 - 3s/epoch - 4ms/step\n",
            "Epoch 31/100\n",
            "804/804 - 3s - loss: 0.5433 - accuracy: 0.7357 - 3s/epoch - 4ms/step\n",
            "Epoch 32/100\n",
            "804/804 - 3s - loss: 0.5424 - accuracy: 0.7352 - 3s/epoch - 4ms/step\n",
            "Epoch 33/100\n",
            "804/804 - 3s - loss: 0.5427 - accuracy: 0.7367 - 3s/epoch - 4ms/step\n",
            "Epoch 34/100\n",
            "804/804 - 3s - loss: 0.5426 - accuracy: 0.7362 - 3s/epoch - 4ms/step\n",
            "Epoch 35/100\n",
            "804/804 - 3s - loss: 0.5419 - accuracy: 0.7363 - 3s/epoch - 4ms/step\n",
            "Epoch 36/100\n",
            "804/804 - 3s - loss: 0.5419 - accuracy: 0.7369 - 3s/epoch - 4ms/step\n",
            "Epoch 37/100\n",
            "804/804 - 3s - loss: 0.5416 - accuracy: 0.7368 - 3s/epoch - 4ms/step\n",
            "Epoch 38/100\n",
            "804/804 - 3s - loss: 0.5411 - accuracy: 0.7362 - 3s/epoch - 4ms/step\n",
            "Epoch 39/100\n",
            "804/804 - 3s - loss: 0.5430 - accuracy: 0.7360 - 3s/epoch - 4ms/step\n",
            "Epoch 40/100\n",
            "804/804 - 3s - loss: 0.5415 - accuracy: 0.7373 - 3s/epoch - 4ms/step\n",
            "Epoch 41/100\n",
            "804/804 - 4s - loss: 0.5427 - accuracy: 0.7374 - 4s/epoch - 4ms/step\n",
            "Epoch 42/100\n",
            "804/804 - 3s - loss: 0.5410 - accuracy: 0.7363 - 3s/epoch - 4ms/step\n",
            "Epoch 43/100\n",
            "804/804 - 3s - loss: 0.5417 - accuracy: 0.7368 - 3s/epoch - 4ms/step\n",
            "Epoch 44/100\n",
            "804/804 - 3s - loss: 0.5409 - accuracy: 0.7372 - 3s/epoch - 4ms/step\n",
            "Epoch 45/100\n",
            "804/804 - 3s - loss: 0.5403 - accuracy: 0.7369 - 3s/epoch - 4ms/step\n",
            "Epoch 46/100\n",
            "804/804 - 3s - loss: 0.5395 - accuracy: 0.7384 - 3s/epoch - 4ms/step\n",
            "Epoch 47/100\n",
            "804/804 - 3s - loss: 0.5395 - accuracy: 0.7375 - 3s/epoch - 4ms/step\n",
            "Epoch 48/100\n",
            "804/804 - 3s - loss: 0.5396 - accuracy: 0.7377 - 3s/epoch - 4ms/step\n",
            "Epoch 49/100\n",
            "804/804 - 3s - loss: 0.5400 - accuracy: 0.7377 - 3s/epoch - 4ms/step\n",
            "Epoch 50/100\n",
            "804/804 - 3s - loss: 0.5393 - accuracy: 0.7382 - 3s/epoch - 4ms/step\n",
            "Epoch 51/100\n",
            "804/804 - 3s - loss: 0.5393 - accuracy: 0.7378 - 3s/epoch - 4ms/step\n",
            "Epoch 52/100\n",
            "804/804 - 3s - loss: 0.5391 - accuracy: 0.7375 - 3s/epoch - 4ms/step\n",
            "Epoch 53/100\n",
            "804/804 - 3s - loss: 0.5391 - accuracy: 0.7369 - 3s/epoch - 4ms/step\n",
            "Epoch 54/100\n",
            "804/804 - 4s - loss: 0.5407 - accuracy: 0.7368 - 4s/epoch - 4ms/step\n",
            "Epoch 55/100\n",
            "804/804 - 3s - loss: 0.5408 - accuracy: 0.7361 - 3s/epoch - 4ms/step\n",
            "Epoch 56/100\n",
            "804/804 - 3s - loss: 0.5394 - accuracy: 0.7372 - 3s/epoch - 4ms/step\n",
            "Epoch 57/100\n",
            "804/804 - 3s - loss: 0.5403 - accuracy: 0.7378 - 3s/epoch - 4ms/step\n",
            "Epoch 58/100\n",
            "804/804 - 3s - loss: 0.5407 - accuracy: 0.7375 - 3s/epoch - 4ms/step\n",
            "Epoch 59/100\n",
            "804/804 - 3s - loss: 0.5386 - accuracy: 0.7379 - 3s/epoch - 4ms/step\n",
            "Epoch 60/100\n",
            "804/804 - 3s - loss: 0.5404 - accuracy: 0.7379 - 3s/epoch - 4ms/step\n",
            "Epoch 61/100\n",
            "804/804 - 3s - loss: 0.5392 - accuracy: 0.7381 - 3s/epoch - 4ms/step\n",
            "Epoch 62/100\n",
            "804/804 - 3s - loss: 0.5386 - accuracy: 0.7368 - 3s/epoch - 4ms/step\n",
            "Epoch 63/100\n",
            "804/804 - 4s - loss: 0.5383 - accuracy: 0.7384 - 4s/epoch - 4ms/step\n",
            "Epoch 64/100\n",
            "804/804 - 3s - loss: 0.5382 - accuracy: 0.7377 - 3s/epoch - 4ms/step\n",
            "Epoch 65/100\n",
            "804/804 - 3s - loss: 0.5675 - accuracy: 0.7365 - 3s/epoch - 4ms/step\n",
            "Epoch 66/100\n",
            "804/804 - 3s - loss: 0.5390 - accuracy: 0.7367 - 3s/epoch - 4ms/step\n",
            "Epoch 67/100\n",
            "804/804 - 3s - loss: 0.5377 - accuracy: 0.7369 - 3s/epoch - 4ms/step\n",
            "Epoch 68/100\n",
            "804/804 - 3s - loss: 0.5375 - accuracy: 0.7380 - 3s/epoch - 4ms/step\n",
            "Epoch 69/100\n",
            "804/804 - 3s - loss: 0.5376 - accuracy: 0.7380 - 3s/epoch - 4ms/step\n",
            "Epoch 70/100\n",
            "804/804 - 3s - loss: 0.5376 - accuracy: 0.7386 - 3s/epoch - 4ms/step\n",
            "Epoch 71/100\n",
            "804/804 - 3s - loss: 0.5385 - accuracy: 0.7367 - 3s/epoch - 4ms/step\n",
            "Epoch 72/100\n",
            "804/804 - 4s - loss: 0.5393 - accuracy: 0.7378 - 4s/epoch - 4ms/step\n",
            "Epoch 73/100\n",
            "804/804 - 4s - loss: 0.5432 - accuracy: 0.7378 - 4s/epoch - 4ms/step\n",
            "Epoch 74/100\n",
            "804/804 - 3s - loss: 0.5376 - accuracy: 0.7384 - 3s/epoch - 4ms/step\n",
            "Epoch 75/100\n",
            "804/804 - 3s - loss: 0.5382 - accuracy: 0.7380 - 3s/epoch - 4ms/step\n",
            "Epoch 76/100\n",
            "804/804 - 3s - loss: 0.5378 - accuracy: 0.7380 - 3s/epoch - 4ms/step\n",
            "Epoch 77/100\n",
            "804/804 - 3s - loss: 0.5482 - accuracy: 0.7376 - 3s/epoch - 4ms/step\n",
            "Epoch 78/100\n",
            "804/804 - 3s - loss: 0.5404 - accuracy: 0.7373 - 3s/epoch - 4ms/step\n",
            "Epoch 79/100\n",
            "804/804 - 3s - loss: 0.5370 - accuracy: 0.7390 - 3s/epoch - 4ms/step\n",
            "Epoch 80/100\n",
            "804/804 - 3s - loss: 0.5375 - accuracy: 0.7379 - 3s/epoch - 4ms/step\n",
            "Epoch 81/100\n",
            "804/804 - 4s - loss: 0.5377 - accuracy: 0.7378 - 4s/epoch - 4ms/step\n",
            "Epoch 82/100\n",
            "804/804 - 3s - loss: 0.5368 - accuracy: 0.7385 - 3s/epoch - 4ms/step\n",
            "Epoch 83/100\n",
            "804/804 - 4s - loss: 0.5377 - accuracy: 0.7379 - 4s/epoch - 4ms/step\n",
            "Epoch 84/100\n",
            "804/804 - 3s - loss: 0.5394 - accuracy: 0.7381 - 3s/epoch - 4ms/step\n",
            "Epoch 85/100\n",
            "804/804 - 3s - loss: 0.5365 - accuracy: 0.7379 - 3s/epoch - 4ms/step\n",
            "Epoch 86/100\n",
            "804/804 - 3s - loss: 0.5386 - accuracy: 0.7385 - 3s/epoch - 4ms/step\n",
            "Epoch 87/100\n",
            "804/804 - 3s - loss: 0.5375 - accuracy: 0.7394 - 3s/epoch - 4ms/step\n",
            "Epoch 88/100\n",
            "804/804 - 3s - loss: 0.5375 - accuracy: 0.7379 - 3s/epoch - 4ms/step\n",
            "Epoch 89/100\n",
            "804/804 - 4s - loss: 0.5375 - accuracy: 0.7383 - 4s/epoch - 4ms/step\n",
            "Epoch 90/100\n",
            "804/804 - 4s - loss: 0.5371 - accuracy: 0.7385 - 4s/epoch - 4ms/step\n",
            "Epoch 91/100\n",
            "804/804 - 3s - loss: 0.5381 - accuracy: 0.7386 - 3s/epoch - 4ms/step\n",
            "Epoch 92/100\n",
            "804/804 - 3s - loss: 0.5438 - accuracy: 0.7380 - 3s/epoch - 4ms/step\n",
            "Epoch 93/100\n",
            "804/804 - 4s - loss: 0.5371 - accuracy: 0.7383 - 4s/epoch - 4ms/step\n",
            "Epoch 94/100\n",
            "804/804 - 3s - loss: 0.5375 - accuracy: 0.7378 - 3s/epoch - 4ms/step\n",
            "Epoch 95/100\n",
            "804/804 - 3s - loss: 0.5393 - accuracy: 0.7372 - 3s/epoch - 4ms/step\n",
            "Epoch 96/100\n",
            "804/804 - 3s - loss: 0.5379 - accuracy: 0.7369 - 3s/epoch - 4ms/step\n",
            "Epoch 97/100\n",
            "804/804 - 3s - loss: 0.5367 - accuracy: 0.7381 - 3s/epoch - 4ms/step\n",
            "Epoch 98/100\n",
            "804/804 - 3s - loss: 0.5372 - accuracy: 0.7381 - 3s/epoch - 4ms/step\n",
            "Epoch 99/100\n",
            "804/804 - 3s - loss: 0.5378 - accuracy: 0.7380 - 3s/epoch - 4ms/step\n",
            "Epoch 100/100\n",
            "804/804 - 4s - loss: 0.5377 - accuracy: 0.7379 - 4s/epoch - 4ms/step\n"
          ]
        }
      ]
    },
    {
      "cell_type": "code",
      "metadata": {
        "id": "3DWGdLiCINvI",
        "colab": {
          "base_uri": "https://localhost:8080/"
        },
        "outputId": "80dec377-892f-424c-c79d-9f5c9b03031c"
      },
      "source": [
        "# Evaluate the model using the test data\n",
        "model_loss, model_accuracy = nn.evaluate(X_test_scaled,y_test,verbose=0)\n",
        "print(f\"Loss: {model_loss}, Accuracy: {model_accuracy}\")"
      ],
      "execution_count": null,
      "outputs": [
        {
          "output_type": "stream",
          "name": "stdout",
          "text": [
            "Loss: 0.6051310896873474, Accuracy: 0.7231487035751343\n"
          ]
        }
      ]
    },
    {
      "cell_type": "code",
      "metadata": {
        "id": "mk2FUvCcINvI"
      },
      "source": [
        "# Export our model to HDF5 file\n",
        "#  YOUR CODE GOES HERE\n",
        "nn.save(\"AlphabetSoupCharity_Optimzation2.h5\")"
      ],
      "execution_count": null,
      "outputs": []
    }
  ]
}